{
 "cells": [
  {
   "cell_type": "code",
   "execution_count": 4,
   "metadata": {},
   "outputs": [],
   "source": [
    "import json\n",
    "import openpyxl\n",
    "import requests\n",
    "from bs4 import BeautifulSoup\n",
    "import os\n",
    "import gevent\n",
    "from gevent import queue"
   ]
  },
  {
   "cell_type": "code",
   "execution_count": 5,
   "metadata": {},
   "outputs": [],
   "source": [
    "\n",
    "def Copy(str):\n",
    "    os.system(f'echo \"{str}\" | clip')\n",
    "\n",
    "# 解析json header cookie url 三兄弟\n",
    "def PrintJson(json)-> str:\n",
    "    # string builder\n",
    "    string_builder = '{'\n",
    "    # 我需要知道是否是最后一个 这样不应该输出最后的,\n",
    "    pc = 0\n",
    "    for key, value in json.items():\n",
    "        if (pc < len(json) - 1):\n",
    "            string_builder += f'\"{key}\": \"{value}\",\\n'\n",
    "        else:\n",
    "            string_builder += f'\"{key}\": \"{value}\"\\n'\n",
    "        pc += 1\n",
    "    string_builder += '}'\n",
    "    return string_builder\n",
    "\n",
    "# 输入一个url\n",
    "# 将url 和 query 返回\n",
    "def ParseUrl(url):\n",
    "    url, params = url.split('?', 1)\n",
    "    params = params.split('&')\n",
    "    params = [param.split('=') for param in params]\n",
    "    params = {key: value for key, value in params}\n",
    "    # print默认输出' 将其改为\"即可\n",
    "    print(f'url: \"{url}\"')\n",
    "    print('params:')\n",
    "    PrintJson(params)\n",
    "\n",
    "\n",
    "def ParseHeader(header:str)-> str:\n",
    "    # 移除第一行\n",
    "    lines = header.replace(\"\\\"\", \"'\").split('\\n')\n",
    "    Json = {}\n",
    "    for line in lines:\n",
    "        if line:\n",
    "            key, value = line.split(':', 1)\n",
    "            Json[key] = value.strip()\n",
    "    return PrintJson(Json)\n",
    "\n",
    "\n",
    "def ParseCookie(str):\n",
    "    lines = str.replace(\"\\\"\", \"'\").split(';')\n",
    "    Json = {}\n",
    "    for line in lines:\n",
    "        if line:\n",
    "            key, value = line.split('=', 1)\n",
    "            Json[key.strip()] = value.strip()\n",
    "    PrintJson(Json)\n",
    "\n"
   ]
  },
  {
   "cell_type": "code",
   "execution_count": 6,
   "metadata": {},
   "outputs": [],
   "source": [
    "Header = \"\"\"\n",
    "Accept: */*\n",
    "Accept-Encoding: gzip, deflate, br\n",
    "Accept-Language: en-US,en;q=0.9,zh-CN;q=0.8,zh;q=0.7\n",
    "Connection: keep-alive\n",
    "Host: qwerty-learner.osrc.com\n",
    "Referer: https://qwerty-learner.osrc.com/\n",
    "Sec-Fetch-Dest: manifest\n",
    "Sec-Fetch-Mode: cors\n",
    "Sec-Fetch-Site: same-origin\n",
    "User-Agent: Mozilla/5.0 (Windows NT 10.0; Win64; x64) AppleWebKit/537.36 (KHTML, like Gecko) Chrome/119.0.0.0 Safari/537.36\n",
    "sec-ch-ua: \"Google Chrome\";v=\"119\", \"Chromium\";v=\"119\", \"Not?A_Brand\";v=\"24\"\n",
    "sec-ch-ua-mobile: ?0\n",
    "sec-ch-ua-platform: \"Windows\"\n",
    "\"\"\"\n",
    "\n",
    "Copy(ParseHeader(Header))"
   ]
  },
  {
   "cell_type": "code",
   "execution_count": null,
   "metadata": {},
   "outputs": [],
   "source": []
  },
  {
   "cell_type": "code",
   "execution_count": null,
   "metadata": {},
   "outputs": [],
   "source": []
  },
  {
   "cell_type": "code",
   "execution_count": null,
   "metadata": {},
   "outputs": [],
   "source": []
  },
  {
   "cell_type": "code",
   "execution_count": null,
   "metadata": {},
   "outputs": [],
   "source": []
  }
 ],
 "metadata": {
  "kernelspec": {
   "display_name": "Python 3",
   "language": "python",
   "name": "python3"
  },
  "language_info": {
   "codemirror_mode": {
    "name": "ipython",
    "version": 3
   },
   "file_extension": ".py",
   "mimetype": "text/x-python",
   "name": "python",
   "nbconvert_exporter": "python",
   "pygments_lexer": "ipython3",
   "version": "3.10.6"
  },
  "orig_nbformat": 4
 },
 "nbformat": 4,
 "nbformat_minor": 2
}
